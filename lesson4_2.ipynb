{
 "cells": [
  {
   "cell_type": "code",
   "execution_count": 1,
   "metadata": {},
   "outputs": [
    {
     "name": "stdout",
     "output_type": "stream",
     "text": [
      "請輸入學生分數（最高300分）：250\n",
      "學生是否符合加分條件？\n",
      "1. y\n",
      "2. n\n",
      "加分\n",
      "\n",
      "y\n"
     ]
    }
   ],
   "source": [
    "import pyinputplus as pyip\n",
    "\n",
    "scores=pyip.inputInt(prompt=\"請輸入學生分數（最高300分）：\",min=0,max=300)\n",
    "print(scores)\n",
    "isYes=pyip.inputMenu(['y','n'],prompt=\"學生是否符合加分條件？\\n\",numbered=True)\n",
    "if isYes==\"y\":\n",
    "    print(\"加分\")\n",
    "else:\n",
    "    print('減分')\n",
    "print()\n",
    "print(isYes)"
   ]
  },
  {
   "cell_type": "code",
   "execution_count": 10,
   "metadata": {},
   "outputs": [
    {
     "name": "stdout",
     "output_type": "stream",
     "text": [
      "請輸入學生分數（最高300分）：290\n",
      "學生是否符合加分條件？\n",
      "1. y\n",
      "2. n\n",
      "學生分數為300\n"
     ]
    }
   ],
   "source": [
    "import pyinputplus as pyip\n",
    "\n",
    "scores=pyip.inputInt(prompt=\"請輸入學生分數（最高300分）：\",min=0,max=300)\n",
    "print(scores)\n",
    "isYes=pyip.inputMenu(['y','n'],prompt=\"學生是否符合加分條件？\\n\",numbered=True)\n",
    "if isYes==\"y\":\n",
    "    scores*=1.05\n",
    "    if scores>300:\n",
    "        scores=300\n",
    "\n",
    "print(f\"學生分數為{scores}\")"
   ]
  },
  {
   "cell_type": "code",
   "execution_count": 23,
   "metadata": {},
   "outputs": [
    {
     "name": "stdout",
     "output_type": "stream",
     "text": [
      "X：-33\n",
      "-1.4185720345070807\n"
     ]
    }
   ],
   "source": [
    "import pyinputplus as pyip\n",
    "\n",
    "x=pyip.inputInt(prompt=\"X：\")\n",
    "print(x)\n",
    "y=10\n",
    "if x>=0:\n",
    "    print(x**(1/y))\n",
    "else:\n",
    "    if (x<0) and (x%2==0):\n",
    "        print('虛數')\n",
    "    else:\n",
    "        print(-(-x)**(1/y))\n",
    "\n"
   ]
  }
 ],
 "metadata": {
  "kernelspec": {
   "display_name": "Python 3",
   "language": "python",
   "name": "python3"
  },
  "language_info": {
   "codemirror_mode": {
    "name": "ipython",
    "version": 3
   },
   "file_extension": ".py",
   "mimetype": "text/x-python",
   "name": "python",
   "nbconvert_exporter": "python",
   "pygments_lexer": "ipython3",
   "version": "3.10.13"
  }
 },
 "nbformat": 4,
 "nbformat_minor": 2
}

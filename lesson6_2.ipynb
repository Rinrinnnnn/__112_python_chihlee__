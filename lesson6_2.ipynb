{
 "cells": [
  {
   "cell_type": "code",
   "execution_count": 1,
   "metadata": {},
   "outputs": [
    {
     "name": "stdout",
     "output_type": "stream",
     "text": [
      "應用程式結束\n",
      "總共執行1\n",
      "0\n"
     ]
    }
   ],
   "source": [
    "#請設計一個城市，讓使用者輸入數值\n",
    "#只有加總正偶數值，不加總正奇數值\n",
    "#如果輸入負數，結束程式\n",
    "\n",
    "total=0\n",
    "num=0\n",
    "while(True): #用括號可以連在一起\n",
    "    value=int(input('請輸入第{num+1}數值：'))\n",
    "    num+=1\n",
    "\n",
    "    if value <0:\n",
    "        break\n",
    "        print('break之後')\n",
    "    elif value%2==1:\n",
    "        num += 1\n",
    "        continue\n",
    "        print(\"continue之後\")\n",
    "    else:\n",
    "        num+= 1\n",
    "        total += value\n",
    "print('應用程式結束')\n",
    "print(f'總共執行{num}')\n",
    "print(total)"
   ]
  }
 ],
 "metadata": {
  "kernelspec": {
   "display_name": "Python 3",
   "language": "python",
   "name": "python3"
  },
  "language_info": {
   "codemirror_mode": {
    "name": "ipython",
    "version": 3
   },
   "file_extension": ".py",
   "mimetype": "text/x-python",
   "name": "python",
   "nbconvert_exporter": "python",
   "pygments_lexer": "ipython3",
   "version": "3.10.13"
  }
 },
 "nbformat": 4,
 "nbformat_minor": 2
}

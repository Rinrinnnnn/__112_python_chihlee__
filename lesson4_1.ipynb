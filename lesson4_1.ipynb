{
 "cells": [
  {
   "cell_type": "code",
   "execution_count": 2,
   "metadata": {},
   "outputs": [
    {
     "name": "stdout",
     "output_type": "stream",
     "text": [
      "請輸入學生分數（最高300分）：\n",
      "學生分數為 250\n"
     ]
    }
   ],
   "source": [
    "#學生總分為300\n",
    "import pyinputplus as pyip\n",
    "scores=pyip.inputInt(\"請輸入學生分數（最高300分）：\")\n",
    "print()\n",
    "print(\"學生分數為\",scores)"
   ]
  },
  {
   "cell_type": "code",
   "execution_count": 3,
   "metadata": {},
   "outputs": [
    {
     "name": "stdout",
     "output_type": "stream",
     "text": [
      "請輸入學生分數（最高300分）：\n",
      "學生林伶分數為250\n"
     ]
    }
   ],
   "source": [
    "#學生總分為300\n",
    "import pyinputplus as pyip\n",
    "\n",
    "scores=pyip.inputInt(\"請輸入學生分數（最高300分）：\")\n",
    "name=\"林伶\"\n",
    "print()\n",
    "print(f\"學生{name}分數為{scores}\") #字串插補"
   ]
  },
  {
   "cell_type": "code",
   "execution_count": 6,
   "metadata": {},
   "outputs": [
    {
     "name": "stdout",
     "output_type": "stream",
     "text": [
      "請輸入學生分數（最高300分）：Number must be at maximum 300.\n",
      "請輸入學生分數（最高300分）：Number must be at minimum 0.\n",
      "請輸入學生分數（最高300分）：Number must be at maximum 300.\n",
      "請輸入學生分數（最高300分）：\n",
      "學生林伶分數為279\n"
     ]
    }
   ],
   "source": [
    "#學生總分為300\n",
    "import pyinputplus as pyip\n",
    "\n",
    "scores=pyip.inputInt(prompt=\"請輸入學生分數（最高300分）：\",min=0,max=300)\n",
    "name=\"林伶\"\n",
    "print()\n",
    "print(f\"學生{name}分數為{scores}\") #字串插補"
   ]
  },
  {
   "cell_type": "code",
   "execution_count": 3,
   "metadata": {},
   "outputs": [
    {
     "name": "stdout",
     "output_type": "stream",
     "text": [
      "請輸入學生分數（最高300分）：270\n",
      "學生是否符合加分條件？\n",
      "1. y\n",
      "2. n\n",
      "\n",
      "y\n"
     ]
    }
   ],
   "source": [
    "#學生總分為300\n",
    "#有些學生可以加分5%\n",
    "#如加分超過300，則以300分計算\n",
    "\n",
    "import pyinputplus as pyip\n",
    "\n",
    "scores=pyip.inputInt(prompt=\"請輸入學生分數（最高300分）：\",min=0,max=300)\n",
    "print(scores)\n",
    "isYes=pyip.inputMenu(['y','n'],prompt=\"學生是否符合加分條件？\\n\",numbered=True)\n",
    "print()\n",
    "print(isYes)"
   ]
  },
  {
   "cell_type": "code",
   "execution_count": null,
   "metadata": {},
   "outputs": [],
   "source": [
    "import pyinputplus as pyip\n",
    "\n",
    "scores=pyip.inputInt(prompt=\"請輸入學生分數（最高300分）：\",min=0,max=300)\n",
    "print(scores)\n",
    "isYes=pyip.inputMenu(['y','n'],prompt=\"學生是否符合加分條件？\\n\",numbered=True)\n",
    "if isYes==\"y\":\n",
    "    print(\"加分\")\n",
    "else:\n",
    "    print('減分')\n",
    "print()\n",
    "print(isYes)"
   ]
  },
  {
   "cell_type": "code",
   "execution_count": 29,
   "metadata": {},
   "outputs": [
    {
     "name": "stdout",
     "output_type": "stream",
     "text": [
      "請輸入學生分數（最高300分）：250\n",
      "學生是否符合加分條件？\n",
      "1. y\n",
      "2. n\n",
      "學生分數為262.5\n"
     ]
    }
   ],
   "source": [
    "import pyinputplus as pyip\n",
    "\n",
    "scores=pyip.inputInt(prompt=\"請輸入學生分數（最高300分）：\",min=0,max=300)\n",
    "print(scores)\n",
    "isYes=pyip.inputMenu(['y','n'],prompt=\"學生是否符合加分條件？\\n\",numbered=True)\n",
    "if isYes==\"y\":\n",
    "    scores*=1.05\n",
    "    if scores>300:\n",
    "        scores=300\n",
    "\n",
    "print(f\"學生分數為{scores}\")"
   ]
  },
  {
   "cell_type": "code",
   "execution_count": 13,
   "metadata": {},
   "outputs": [
    {
     "name": "stdout",
     "output_type": "stream",
     "text": [
      "-3.0\n"
     ]
    }
   ],
   "source": [
    "#巢狀選擇\n",
    "# -如X不是負數，則回傳值為 x ** (1/y)\n",
    "# -如X是負數且為偶數，則傳回值為\"虛數\"\n",
    "# -如X是負數且為基數，則傳回值為 -(-x) ** (1/y)\n",
    "#自己打的\n",
    "import pyinputplus as pyip\n",
    "\n",
    "x=pyip.inputInt()\n",
    "y=2\n",
    "if x>=0:\n",
    "    print(x**(1/y))\n",
    "else:\n",
    "    if x%2==0:\n",
    "        print('虛數')\n",
    "    else:\n",
    "        print(-(-x)**(1/y))\n",
    "\n"
   ]
  },
  {
   "cell_type": "code",
   "execution_count": 8,
   "metadata": {},
   "outputs": [
    {
     "name": "stdout",
     "output_type": "stream",
     "text": [
      "-3.0\n"
     ]
    }
   ],
   "source": [
    "#老師打的\n",
    "x=-9\n",
    "y=2\n",
    "if x>=0:\n",
    "    print('不是負數')\n",
    "    root=x**(1/y)\n",
    "else:\n",
    "    if x%2==0:\n",
    "        root=\"虛數\"\n",
    "    else:\n",
    "        root=-(-x)**(1/y)\n",
    "\n",
    "print(root)\n"
   ]
  },
  {
   "cell_type": "code",
   "execution_count": 15,
   "metadata": {},
   "outputs": [
    {
     "name": "stdout",
     "output_type": "stream",
     "text": [
      "優\n"
     ]
    }
   ],
   "source": [
    "#多項選擇\n",
    "scores=90\n",
    "\n",
    "if scores<60:\n",
    "    print('不及格')\n",
    "else:\n",
    "    if scores>=80:\n",
    "        print('優')\n",
    "    else:\n",
    "        print('甲')"
   ]
  },
  {
   "cell_type": "code",
   "execution_count": 28,
   "metadata": {},
   "outputs": [
    {
     "name": "stdout",
     "output_type": "stream",
     "text": [
      "59分\n",
      "不及格\n"
     ]
    }
   ],
   "source": [
    "scores=int(input())\n",
    "print(f\"{scores}分\")\n",
    "\n",
    "if scores<60:\n",
    "    print('不及格')\n",
    "elif scores>=80:\n",
    "    print('優')\n",
    "elif scores>=70:\n",
    "    print('甲')\n",
    "elif scores>=60:\n",
    "    print('丙')\n",
    "else:\n",
    "    print('丁')"
   ]
  },
  {
   "cell_type": "code",
   "execution_count": 37,
   "metadata": {},
   "outputs": [
    {
     "name": "stdout",
     "output_type": "stream",
     "text": [
      "購買金額：55000元\n",
      "折後金額：46750元\n"
     ]
    }
   ],
   "source": [
    "#輸入顧客購買金額，若金額在\n",
    "#100000元打8折\n",
    "#50000元打85折\n",
    "#30000元打9折\n",
    "#10000元打95折\n",
    "\n",
    "#請輸入購買金額:130000\n",
    "#實付金額是：104000.0元\n",
    "\n",
    "scores=int(input())\n",
    "print(f\"購買金額：{scores}元\")\n",
    "\n",
    "if scores>=100000:\n",
    "    print(f\"折後金額：{int(scores*0.8)}元\")\n",
    "elif scores>=50000:\n",
    "    print(f\"折後金額：{int(scores*0.85)}元\")\n",
    "elif scores>=30000:\n",
    "    print(f\"折後金額：{int(scores*0.9)}元\")\n",
    "else:\n",
    "    print(f\"折後金額：{int(scores*0.95)}元\")"
   ]
  }
 ],
 "metadata": {
  "kernelspec": {
   "display_name": "Python 3",
   "language": "python",
   "name": "python3"
  },
  "language_info": {
   "codemirror_mode": {
    "name": "ipython",
    "version": 3
   },
   "file_extension": ".py",
   "mimetype": "text/x-python",
   "name": "python",
   "nbconvert_exporter": "python",
   "pygments_lexer": "ipython3",
   "version": "3.10.13"
  }
 },
 "nbformat": 4,
 "nbformat_minor": 2
}

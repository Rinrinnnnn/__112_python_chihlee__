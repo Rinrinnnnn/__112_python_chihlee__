{
 "cells": [
  {
   "cell_type": "code",
   "execution_count": 2,
   "metadata": {},
   "outputs": [
    {
     "name": "stdout",
     "output_type": "stream",
     "text": [
      "請輸入學生分數（最高300分）：\n",
      "學生分數為 250\n"
     ]
    }
   ],
   "source": [
    "#學生總分為300\n",
    "import pyinputplus as pyip\n",
    "scores=pyip.inputInt(\"請輸入學生分數（最高300分）：\")\n",
    "print()\n",
    "print(\"學生分數為\",scores)"
   ]
  },
  {
   "cell_type": "code",
   "execution_count": 3,
   "metadata": {},
   "outputs": [
    {
     "name": "stdout",
     "output_type": "stream",
     "text": [
      "請輸入學生分數（最高300分）：\n",
      "學生林伶分數為250\n"
     ]
    }
   ],
   "source": [
    "#學生總分為300\n",
    "import pyinputplus as pyip\n",
    "\n",
    "scores=pyip.inputInt(\"請輸入學生分數（最高300分）：\")\n",
    "name=\"林伶\"\n",
    "print()\n",
    "print(f\"學生{name}分數為{scores}\") #字串插補"
   ]
  },
  {
   "cell_type": "code",
   "execution_count": 6,
   "metadata": {},
   "outputs": [
    {
     "name": "stdout",
     "output_type": "stream",
     "text": [
      "請輸入學生分數（最高300分）：Number must be at maximum 300.\n",
      "請輸入學生分數（最高300分）：Number must be at minimum 0.\n",
      "請輸入學生分數（最高300分）：Number must be at maximum 300.\n",
      "請輸入學生分數（最高300分）：\n",
      "學生林伶分數為279\n"
     ]
    }
   ],
   "source": [
    "#學生總分為300\n",
    "import pyinputplus as pyip\n",
    "\n",
    "scores=pyip.inputInt(prompt=\"請輸入學生分數（最高300分）：\",min=0,max=300)\n",
    "name=\"林伶\"\n",
    "print()\n",
    "print(f\"學生{name}分數為{scores}\") #字串插補"
   ]
  },
  {
   "cell_type": "code",
   "execution_count": 3,
   "metadata": {},
   "outputs": [
    {
     "name": "stdout",
     "output_type": "stream",
     "text": [
      "請輸入學生分數（最高300分）：270\n",
      "學生是否符合加分條件？\n",
      "1. y\n",
      "2. n\n",
      "\n",
      "y\n"
     ]
    }
   ],
   "source": [
    "#學生總分為300\n",
    "#有些學生可以加分5%\n",
    "#如加分超過300，則以300分計算\n",
    "\n",
    "import pyinputplus as pyip\n",
    "\n",
    "scores=pyip.inputInt(prompt=\"請輸入學生分數（最高300分）：\",min=0,max=300)\n",
    "print(scores)\n",
    "isYes=pyip.inputMenu(['y','n'],prompt=\"學生是否符合加分條件？\\n\",numbered=True)\n",
    "print()\n",
    "print(isYes)"
   ]
  }
 ],
 "metadata": {
  "kernelspec": {
   "display_name": "Python 3",
   "language": "python",
   "name": "python3"
  },
  "language_info": {
   "codemirror_mode": {
    "name": "ipython",
    "version": 3
   },
   "file_extension": ".py",
   "mimetype": "text/x-python",
   "name": "python",
   "nbconvert_exporter": "python",
   "pygments_lexer": "ipython3",
   "version": "3.10.13"
  }
 },
 "nbformat": 4,
 "nbformat_minor": 2
}

{
 "cells": [
  {
   "cell_type": "code",
   "execution_count": 7,
   "metadata": {},
   "outputs": [],
   "source": [
    "import random\n",
    "def createstudent() -> list[int]:\n",
    "    stu=[] #一個學生的分數\n",
    "    for _ in range(5):\n",
    "        score = random.randint(50,100)\n",
    "        stu.append(score) \n",
    "    return stu\n",
    "\n",
    "def createclasses(numbers:int) -> list[int]:\n",
    "    classes = [] #此班每個人的分數\n",
    "    for _ in range(numbers):\n",
    "        stu = createstudent()\n",
    "        classes.append(stu) \n",
    "    return classes\n",
    "\n",
    "students = createclasses(50) #一班50人，創建students"
   ]
  },
  {
   "cell_type": "code",
   "execution_count": 8,
   "metadata": {},
   "outputs": [],
   "source": [
    "#存檔\n",
    "import csv\n",
    "\n",
    "file=open('students.csv',mode ='w',encoding='utf-8',newline='') #newline=空行\n",
    "csv_writer = csv.writer(file)\n",
    "csv_writer.writerow([\"國文\",\"英文\",\"數學\",\"地理\",\"歷史\"])\n",
    "csv_writer.writerows(students) #匯出students資料\n",
    "file.close()"
   ]
  }
 ],
 "metadata": {
  "kernelspec": {
   "display_name": "Python 3",
   "language": "python",
   "name": "python3"
  },
  "language_info": {
   "codemirror_mode": {
    "name": "ipython",
    "version": 3
   },
   "file_extension": ".py",
   "mimetype": "text/x-python",
   "name": "python",
   "nbconvert_exporter": "python",
   "pygments_lexer": "ipython3",
   "version": "3.10.13"
  }
 },
 "nbformat": 4,
 "nbformat_minor": 2
}

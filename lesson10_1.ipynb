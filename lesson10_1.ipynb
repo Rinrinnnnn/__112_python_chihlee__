{
 "cells": [
  {
   "cell_type": "code",
   "execution_count": 1,
   "metadata": {},
   "outputs": [
    {
     "data": {
      "text/plain": [
       "[[61, 89, 84, 71, 73],\n",
       " [65, 98, 94, 98, 98],\n",
       " [75, 52, 75, 65, 92],\n",
       " [56, 93, 64, 64, 84],\n",
       " [55, 72, 55, 63, 65],\n",
       " [80, 85, 86, 62, 98],\n",
       " [62, 83, 98, 50, 81],\n",
       " [54, 68, 59, 92, 67],\n",
       " [74, 96, 95, 87, 60],\n",
       " [63, 80, 74, 55, 85]]"
      ]
     },
     "execution_count": 1,
     "metadata": {},
     "output_type": "execute_result"
    }
   ],
   "source": [
    "import random\n",
    "def createstudent() -> list[int]:\n",
    "    stu=[] #一個學生的分數\n",
    "    for _ in range(5):\n",
    "        score = random.randint(50,100)\n",
    "        stu.append(score) \n",
    "    return stu\n",
    "\n",
    "def createclasses(numbers:int) -> list[int]:\n",
    "    classes = [] #此班每個人的分數\n",
    "    for _ in range(numbers):\n",
    "        stu = createstudent()\n",
    "        classes.append(stu) \n",
    "    return classes\n",
    "\n",
    "createclasses(10) #一班10人"
   ]
  },
  {
   "cell_type": "code",
   "execution_count": null,
   "metadata": {},
   "outputs": [],
   "source": [
    "#存檔\n",
    "file=open('students.csv',mode ='w',encoding='utf-8',newline='') #newline=空行\n",
    "file.write(\"這是測試\")\n",
    "file.close()"
   ]
  }
 ],
 "metadata": {
  "kernelspec": {
   "display_name": "Python 3",
   "language": "python",
   "name": "python3"
  },
  "language_info": {
   "codemirror_mode": {
    "name": "ipython",
    "version": 3
   },
   "file_extension": ".py",
   "mimetype": "text/x-python",
   "name": "python",
   "nbconvert_exporter": "python",
   "pygments_lexer": "ipython3",
   "version": "3.10.13"
  }
 },
 "nbformat": 4,
 "nbformat_minor": 2
}

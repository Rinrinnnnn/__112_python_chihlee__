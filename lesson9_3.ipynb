{
 "cells": [
  {
   "cell_type": "code",
   "execution_count": 1,
   "metadata": {},
   "outputs": [],
   "source": [
    "stu1=[78,92,65,86,74]\n",
    "stu2=[80,97,68,84,60]\n",
    "stu3=[74,90,61,79,50]"
   ]
  },
  {
   "cell_type": "code",
   "execution_count": 2,
   "metadata": {},
   "outputs": [
    {
     "data": {
      "text/plain": [
       "[[78, 92, 65, 86, 74], [80, 97, 68, 84, 60], [74, 90, 61, 79, 50]]"
      ]
     },
     "execution_count": 2,
     "metadata": {},
     "output_type": "execute_result"
    }
   ],
   "source": [
    "students = [stu1,stu2,stu3]\n",
    "students"
   ]
  },
  {
   "cell_type": "code",
   "execution_count": 3,
   "metadata": {},
   "outputs": [
    {
     "data": {
      "text/plain": [
       "[[78, 92, 65, 86, 74], [80, 97, 68, 84, 60], [74, 90, 61, 79, 50]]"
      ]
     },
     "execution_count": 3,
     "metadata": {},
     "output_type": "execute_result"
    }
   ],
   "source": [
    "students=list()\n",
    "students.append(stu1)\n",
    "students.append(stu2)\n",
    "students.append(stu3)\n",
    "students"
   ]
  },
  {
   "cell_type": "code",
   "execution_count": 7,
   "metadata": {},
   "outputs": [
    {
     "data": {
      "text/plain": [
       "[100, 88, 56, 60, 70]"
      ]
     },
     "execution_count": 7,
     "metadata": {},
     "output_type": "execute_result"
    }
   ],
   "source": [
    "#建立一個學生的五個分數\n",
    "import random\n",
    "stu=[]\n",
    "for _ in range(5):\n",
    "    score= random.randint(50,100)\n",
    "    stu.append(score)\n",
    "\n",
    "stu"
   ]
  },
  {
   "cell_type": "code",
   "execution_count": 8,
   "metadata": {},
   "outputs": [
    {
     "data": {
      "text/plain": [
       "[[71, 84, 60, 58, 100],\n",
       " [76, 74, 82, 77, 73],\n",
       " [98, 89, 77, 91, 88],\n",
       " [53, 70, 50, 100, 66],\n",
       " [66, 84, 70, 50, 90],\n",
       " [51, 94, 94, 81, 96],\n",
       " [54, 55, 66, 68, 56],\n",
       " [57, 69, 71, 58, 95],\n",
       " [52, 87, 77, 83, 74],\n",
       " [61, 75, 94, 71, 57],\n",
       " [50, 77, 75, 68, 80],\n",
       " [74, 55, 53, 64, 95],\n",
       " [50, 64, 94, 68, 58],\n",
       " [76, 91, 57, 78, 92],\n",
       " [66, 82, 92, 74, 58],\n",
       " [58, 56, 80, 85, 72],\n",
       " [65, 58, 91, 55, 52],\n",
       " [72, 98, 98, 83, 87],\n",
       " [83, 76, 82, 77, 54],\n",
       " [72, 57, 60, 80, 61],\n",
       " [81, 58, 58, 74, 96],\n",
       " [53, 68, 67, 61, 94],\n",
       " [50, 98, 55, 97, 76],\n",
       " [99, 85, 85, 77, 82],\n",
       " [81, 96, 84, 55, 88],\n",
       " [95, 77, 82, 79, 76],\n",
       " [54, 74, 86, 69, 90],\n",
       " [59, 66, 55, 54, 72],\n",
       " [98, 78, 99, 86, 56],\n",
       " [65, 56, 57, 68, 99],\n",
       " [87, 52, 75, 85, 52],\n",
       " [92, 93, 77, 91, 87],\n",
       " [74, 52, 65, 50, 65],\n",
       " [100, 99, 62, 85, 66],\n",
       " [51, 71, 92, 75, 69],\n",
       " [57, 83, 90, 68, 53],\n",
       " [57, 88, 100, 73, 68],\n",
       " [83, 56, 86, 73, 80],\n",
       " [90, 91, 88, 80, 65],\n",
       " [74, 74, 59, 100, 85],\n",
       " [100, 65, 63, 97, 99],\n",
       " [83, 87, 72, 89, 83],\n",
       " [61, 53, 96, 74, 66],\n",
       " [70, 92, 65, 55, 79],\n",
       " [80, 51, 66, 99, 75],\n",
       " [65, 85, 100, 69, 69],\n",
       " [60, 67, 53, 83, 65],\n",
       " [68, 71, 70, 79, 55],\n",
       " [82, 78, 74, 68, 88],\n",
       " [75, 55, 50, 76, 61]]"
      ]
     },
     "execution_count": 8,
     "metadata": {},
     "output_type": "execute_result"
    }
   ],
   "source": [
    "#建立一個學生的五個分數\n",
    "#建立50個學生\n",
    "\n",
    "students=[]\n",
    "for _ in range(50):\n",
    "    stu=[]\n",
    "    for _ in range(5):\n",
    "        score= random.randint(50,100)\n",
    "        stu.append(score)\n",
    "    students.append(stu)\n",
    "\n",
    "students"
   ]
  },
  {
   "cell_type": "code",
   "execution_count": 17,
   "metadata": {},
   "outputs": [
    {
     "data": {
      "text/plain": [
       "[[92, 64, 64, 96, 85],\n",
       " [98, 68, 64, 50, 57],\n",
       " [77, 76, 94, 61, 89],\n",
       " [94, 91, 79, 69, 56],\n",
       " [71, 93, 84, 50, 54],\n",
       " [82, 71, 98, 90, 63],\n",
       " [56, 85, 87, 79, 56],\n",
       " [61, 92, 71, 75, 55],\n",
       " [97, 69, 91, 58, 76],\n",
       " [66, 77, 54, 88, 91]]"
      ]
     },
     "execution_count": 17,
     "metadata": {},
     "output_type": "execute_result"
    }
   ],
   "source": [
    "import random\n",
    "def createstudent() -> list[int]:\n",
    "    stu=[] #一個學生的分數\n",
    "    for _ in range(5):\n",
    "        score = random.randint(50,100)\n",
    "        stu.append(score) \n",
    "    return stu\n",
    "\n",
    "def createclasses(numbers:int) -> list[int]:\n",
    "    classes = [] #此班每個人的分數\n",
    "    for _ in range(numbers):\n",
    "        stu = createstudent()\n",
    "        classes.append(stu) \n",
    "    return classes\n",
    "\n",
    "createclasses(10) #一班10人"
   ]
  }
 ],
 "metadata": {
  "kernelspec": {
   "display_name": "Python 3",
   "language": "python",
   "name": "python3"
  },
  "language_info": {
   "codemirror_mode": {
    "name": "ipython",
    "version": 3
   },
   "file_extension": ".py",
   "mimetype": "text/x-python",
   "name": "python",
   "nbconvert_exporter": "python",
   "pygments_lexer": "ipython3",
   "version": "3.10.13"
  }
 },
 "nbformat": 4,
 "nbformat_minor": 2
}

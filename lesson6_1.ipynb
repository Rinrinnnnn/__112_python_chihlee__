{
 "cells": [
  {
   "cell_type": "code",
   "execution_count": 2,
   "metadata": {},
   "outputs": [
    {
     "name": "stdout",
     "output_type": "stream",
     "text": [
      "1\n",
      "7\n",
      "11\n",
      "14\n",
      "20\n",
      "21\n",
      "27\n",
      "31\n",
      "32\n",
      "38\n",
      "43\n",
      "46\n",
      "51\n",
      "52\n",
      "62\n",
      "64\n",
      "65\n",
      "66\n",
      "68\n",
      "76\n",
      "86\n",
      "94\n"
     ]
    }
   ],
   "source": [
    "import random\n",
    "n=1\n",
    "while n<=100:\n",
    "    print(n)\n",
    "    n+=random.randint(1,10)"
   ]
  }
 ],
 "metadata": {
  "kernelspec": {
   "display_name": "Python 3",
   "language": "python",
   "name": "python3"
  },
  "language_info": {
   "codemirror_mode": {
    "name": "ipython",
    "version": 3
   },
   "file_extension": ".py",
   "mimetype": "text/x-python",
   "name": "python",
   "nbconvert_exporter": "python",
   "pygments_lexer": "ipython3",
   "version": "3.10.13"
  }
 },
 "nbformat": 4,
 "nbformat_minor": 2
}

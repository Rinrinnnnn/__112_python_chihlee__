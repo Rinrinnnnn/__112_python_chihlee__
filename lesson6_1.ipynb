{
 "cells": [
  {
   "cell_type": "code",
   "execution_count": 2,
   "metadata": {},
   "outputs": [
    {
     "name": "stdout",
     "output_type": "stream",
     "text": [
      "1\n",
      "7\n",
      "11\n",
      "14\n",
      "20\n",
      "21\n",
      "27\n",
      "31\n",
      "32\n",
      "38\n",
      "43\n",
      "46\n",
      "51\n",
      "52\n",
      "62\n",
      "64\n",
      "65\n",
      "66\n",
      "68\n",
      "76\n",
      "86\n",
      "94\n"
     ]
    }
   ],
   "source": [
    "#無限迴圈\n",
    "#1.建立一個變數\n",
    "#2.while boolean 檢查變數 true false\n",
    "#3.改變變數值\n",
    "import random\n",
    "n=1\n",
    "while n<=100:\n",
    "    print(n)\n",
    "    n+=random.randint(1,10)"
   ]
  },
  {
   "cell_type": "code",
   "execution_count": 4,
   "metadata": {},
   "outputs": [
    {
     "name": "stdout",
     "output_type": "stream",
     "text": [
      "2\n",
      "4\n",
      "25\n",
      "8\n",
      "應用程式結束\n"
     ]
    }
   ],
   "source": [
    "#奇數輸出平方\n",
    "#偶數輸出原來的值\n",
    "#'q'離開\n",
    "\n",
    "while True:\n",
    "    value=input(\"請輸入整數，輸入(q)離開\")\n",
    "    if value=='q':\n",
    "        break\n",
    "    value=int(value)\n",
    "    if value%2==1:\n",
    "        print(value**2)\n",
    "    else:\n",
    "        print(value)\n",
    "print('應用程式結束')"
   ]
  }
 ],
 "metadata": {
  "kernelspec": {
   "display_name": "Python 3",
   "language": "python",
   "name": "python3"
  },
  "language_info": {
   "codemirror_mode": {
    "name": "ipython",
    "version": 3
   },
   "file_extension": ".py",
   "mimetype": "text/x-python",
   "name": "python",
   "nbconvert_exporter": "python",
   "pygments_lexer": "ipython3",
   "version": "3.10.13"
  }
 },
 "nbformat": 4,
 "nbformat_minor": 2
}
